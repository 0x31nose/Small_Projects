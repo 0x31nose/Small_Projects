{
  "nbformat": 4,
  "nbformat_minor": 0,
  "metadata": {
    "colab": {
      "name": "Loan_Calculator.ipynb",
      "provenance": [],
      "authorship_tag": "ABX9TyOa29wzPGtWU/lq+UmvkZ7E",
      "include_colab_link": true
    },
    "kernelspec": {
      "name": "python3",
      "display_name": "Python 3"
    }
  },
  "cells": [
    {
      "cell_type": "markdown",
      "metadata": {
        "id": "view-in-github",
        "colab_type": "text"
      },
      "source": [
        "<a href=\"https://colab.research.google.com/github/0x31nose/Small_Projects/blob/main/Loan_Calculator.ipynb\" target=\"_parent\"><img src=\"https://colab.research.google.com/assets/colab-badge.svg\" alt=\"Open In Colab\"/></a>"
      ]
    },
    {
      "cell_type": "markdown",
      "metadata": {
        "id": "jygWXKVs4Dlj"
      },
      "source": [
        "# Monthly Loan Calculator\n",
        "\n",
        "## Purpose\n",
        "I developed this calculator to help you plan pay back your loans. I assume that a lot of people struggle with planning paying back your loans. I personally found it difficult to calculate by hand, so I decided to write this program in Python so that I can create a payment plan. I hope this would help you in any ways.\n",
        "\n",
        "## Variables\n",
        "- interest_rate: the interest rate of your loan. (e.g. if the interest rate is 6%, the number you type in 0.06.)\n",
        "- loaned_amount: the total amount of your loan. (e.g. if the total amount of your loan is $50,000, you type in 50000.)\n",
        "- loaned_period: the length of your payment. (e.g. if you plan to pay back your loan in 6 years, you type in 72. (6 years = 12 * 6))\n",
        "- monthly_payment: the amount of your monthly payment (e.g. if you plan to pay 1000 usd per month, you type in 1000.)\n",
        "- bonus: the amount of your bonus (e.g. if your bonus is 8000 usd you type in 8000)\n",
        "- unit: the unit of your currency. The default is set to USD.\n",
        "\n",
        "## Bonus\n",
        "- This program assumes that you receive two bonuses every year. I created if-sentence in for-loop. Modify that number if you receive more/less bonus."
      ]
    },
    {
      "cell_type": "code",
      "metadata": {
        "id": "HMT9H-H_vTiS",
        "outputId": "48a95ba2-cc93-4f81-c9ff-6c43c128d014",
        "colab": {
          "base_uri": "https://localhost:8080/"
        }
      },
      "source": [
        "#　Variables\n",
        "interest_rate = 0.0545\n",
        "loaned_amount = 2800000\n",
        "loaned_period = 12\n",
        "monthly_payment = 100000\n",
        "bonus = 800000\n",
        "premium = 0\n",
        "total_premium = 0\n",
        "unit = \"USD\"\n",
        "\n",
        "# Loan calculator\n",
        "i = 0\n",
        "for i in range(12):\n",
        "  loaned_amount -= monthly_payment\n",
        "  premium = int(loaned_amount * (1 * r / 12))\n",
        "  loaned_amount += premium\n",
        "  total_premium += premium\n",
        "  if loaned_amount < 0:\n",
        "    break\n",
        "  # the bonus \n",
        "  if i == 6 or i == 12:\n",
        "    loaned_amount -= bonus\n",
        "  print(\"{} month(s) later, the loaned amount is {} {}.\".format(i, loaned_amount, unit))\n",
        "  print(\"Total Premium paid is {} yen\".format(total_premium))\n",
        "\n"
      ],
      "execution_count": 41,
      "outputs": [
        {
          "output_type": "stream",
          "text": [
            "0 month(s) later, the loaned amount is 2712262 USD.\n",
            "Total Premium paid is 12262 yen\n",
            "1 month(s) later, the loaned amount is 2624126 USD.\n",
            "Total Premium paid is 24126 yen\n",
            "2 month(s) later, the loaned amount is 1735589 USD.\n",
            "Total Premium paid is 35589 yen\n",
            "3 month(s) later, the loaned amount is 1643017 USD.\n",
            "Total Premium paid is 43017 yen\n",
            "4 month(s) later, the loaned amount is 1550024 USD.\n",
            "Total Premium paid is 50024 yen\n",
            "5 month(s) later, the loaned amount is 1456609 USD.\n",
            "Total Premium paid is 56609 yen\n",
            "6 month(s) later, the loaned amount is 1362770 USD.\n",
            "Total Premium paid is 62770 yen\n",
            "7 month(s) later, the loaned amount is 1268505 USD.\n",
            "Total Premium paid is 68505 yen\n",
            "8 month(s) later, the loaned amount is 373811 USD.\n",
            "Total Premium paid is 73811 yen\n",
            "9 month(s) later, the loaned amount is 275054 USD.\n",
            "Total Premium paid is 75054 yen\n",
            "10 month(s) later, the loaned amount is 175849 USD.\n",
            "Total Premium paid is 75849 yen\n",
            "11 month(s) later, the loaned amount is 76193 USD.\n",
            "Total Premium paid is 76193 yen\n"
          ],
          "name": "stdout"
        }
      ]
    },
    {
      "cell_type": "code",
      "metadata": {
        "id": "HbCbWXZxwIHH"
      },
      "source": [
        ""
      ],
      "execution_count": null,
      "outputs": []
    }
  ]
}